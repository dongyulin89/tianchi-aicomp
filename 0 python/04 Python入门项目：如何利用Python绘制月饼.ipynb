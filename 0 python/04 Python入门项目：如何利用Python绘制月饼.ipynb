{
 "cells": [
  {
   "cell_type": "markdown",
   "metadata": {},
   "source": [
    "### Python画月饼，云上过中秋"
   ]
  },
  {
   "cell_type": "markdown",
   "metadata": {},
   "source": [
    "1、首先我们需要导入画图和数据计算的相关库。"
   ]
  },
  {
   "cell_type": "code",
   "execution_count": 18,
   "metadata": {},
   "outputs": [],
   "source": [
    "import numpy as np\n",
    "from numpy import sin, cos, pi\n",
    "import matplotlib.pyplot as plt\n",
    "import matplotlib.patches as mpatch\n",
    "from matplotlib.patches import Arc, Circle, Wedge\n",
    "from matplotlib.collections import PatchCollection\n",
    "from matplotlib.font_manager import FontProperties"
   ]
  },
  {
   "cell_type": "markdown",
   "metadata": {},
   "source": [
    "2、为了在图片上显示中文，需要先加载Alibaba-PuHuiTi-Medium字体。"
   ]
  },
  {
   "cell_type": "code",
   "execution_count": 19,
   "metadata": {},
   "outputs": [
    {
     "name": "stdout",
     "output_type": "stream",
     "text": [
      "--2020-09-30 20:13:07--  http://tianchi-media.oss-cn-beijing.aliyuncs.com/DSW/Python/miniproject/01_draw_moon_cake/Alibaba-PuHuiTi-Medium.ttf\n",
      "Resolving tianchi-media.oss-cn-beijing.aliyuncs.com (tianchi-media.oss-cn-beijing.aliyuncs.com)... 47.95.85.21\n",
      "Connecting to tianchi-media.oss-cn-beijing.aliyuncs.com (tianchi-media.oss-cn-beijing.aliyuncs.com)|47.95.85.21|:80... connected.\n",
      "HTTP request sent, awaiting response... 200 OK\n",
      "Length: 9560068 (9.1M) [font/ttf]\n",
      "Saving to: ‘Alibaba-PuHuiTi-Medium.ttf.1’\n",
      "\n",
      "100%[======================================>] 9,560,068   18.7MB/s   in 0.5s   \n",
      "\n",
      "2020-09-30 20:13:07 (18.7 MB/s) - ‘Alibaba-PuHuiTi-Medium.ttf.1’ saved [9560068/9560068]\n",
      "\n"
     ]
    }
   ],
   "source": [
    "!wget http://tianchi-media.oss-cn-beijing.aliyuncs.com/DSW/Python/miniproject/01_draw_moon_cake/Alibaba-PuHuiTi-Medium.ttf"
   ]
  },
  {
   "cell_type": "markdown",
   "metadata": {},
   "source": [
    "3、然后设置3个变量，这3个变量的用途到后面会有解释："
   ]
  },
  {
   "cell_type": "code",
   "execution_count": 20,
   "metadata": {},
   "outputs": [],
   "source": [
    "length = 20  \n",
    "R = 3**0.5*length/(3**0.5*cos(pi/12)-sin(pi/12))\n",
    "r = 2*sin(pi/12)*R/3**0.5"
   ]
  },
  {
   "cell_type": "markdown",
   "metadata": {},
   "source": [
    "4、接下来我们要画弧线，弧线是月饼边缘的花纹："
   ]
  },
  {
   "cell_type": "code",
   "execution_count": 21,
   "metadata": {},
   "outputs": [],
   "source": [
    "arc1 = Arc([0, length], width=2*r, height=2*r, \n",
    "           angle=0, theta1=30, theta2=150, ec='orange', linewidth=4)  ##ec为线条颜色，可以自由替换"
   ]
  },
  {
   "cell_type": "markdown",
   "metadata": {},
   "source": [
    "5、其中 [0, length] 是这个Arc弧线的圆心，因为这个Arc类是一个椭圆形的一部分，所以其包含圆心、横轴、纵轴等参数，length变量就是arc1圆心的纵坐标，width=2*r 和 height=2*r 就说明这个椭圆的纵轴和横轴长度相等，其是一个圆，而不是椭圆，变量 r 就是这个圆的半径。angle=0 就是我们不需要对这个圆进行旋转，theta1=30 和 theta2=150 是指明这个弧线的起始角度和终止角度，这里的角度分别是30度和150度。而 ec='orange' 和linewidth=4 分别指边线的颜色和线条宽度，颜色我们设为橙色，宽度为4。而这些弧线的效果图如图2所示，在图中笔者标出了arc1、arc5和arc9这3条弧线的位置，所有弧线按照逆时针方向排列。这些位置大同小异，大家只要计算好其各自的位置参数就行，这里就不再赘述了。"
   ]
  },
  {
   "cell_type": "markdown",
   "metadata": {},
   "source": [
    "接下来我们要画剩下的11条弧线"
   ]
  },
  {
   "cell_type": "code",
   "execution_count": 22,
   "metadata": {},
   "outputs": [],
   "source": [
    "#arc1 = Arc([0, length], width=2*r, height=2*r, angle=0, theta1=30, theta2=150, ec='orange', linewidth=4)\n",
    "arc2 = Arc([-length/2, length/2*3**0.5], width=2*r, height=2*r, \n",
    "           angle=0, theta1=60, theta2=180, ec='orange', linewidth=4)\n",
    "arc3 = Arc([-length/2*3**0.5, length/2], width=2*r, height=2*r, \n",
    "           angle=0, theta1=90, theta2=210, ec='orange', linewidth=4)\n",
    "arc4 = Arc([-length, 0], width=2*r, height=2*r, angle=0, theta1=120, theta2=240, ec='orange', linewidth=4)\n",
    "arc5 = Arc([-length/2*3**0.5, -length/2], width=2*r, height=2*r, \n",
    "           angle=0, theta1=150, theta2=270, ec='orange', linewidth=4)\n",
    "arc6 = Arc([-length/2, -length/2*3**0.5], width=2*r, height=2*r,\n",
    "           angle=0, theta1=180, theta2=300, ec='orange', linewidth=4)\n",
    "arc7 = Arc([0, -length], width=2*r, height=2*r, angle=0, theta1=210, theta2=330, ec='orange', linewidth=4)\n",
    "arc8 = Arc([length/2, -length/2*3**0.5], width=2*r, height=2*r,\n",
    "           angle=0, theta1=240, theta2=360, ec='orange', linewidth=4)\n",
    "arc9 = Arc([length/2*3**0.5, -length/2], width=2*r, height=2*r,\n",
    "           angle=0, theta1=270, theta2=390, ec='orange', linewidth=4)\n",
    "arc10 = Arc([length, 0], width=2*r, height=2*r, angle=0, theta1=300, theta2=420, ec='orange', linewidth=4)\n",
    "arc11 = Arc([length/2*3**0.5, length/2], width=2*r, height=2*r,\n",
    "            angle=0, theta1=330, theta2=450, ec='orange', linewidth=4)\n",
    "arc12 = Arc([length/2, length/2*3**0.5], width=2*r, height=2*r,\n",
    "            angle=0, theta1=0, theta2=120, ec='orange', linewidth=4)"
   ]
  },
  {
   "cell_type": "markdown",
   "metadata": {},
   "source": [
    "6、然后我们再画一个圆，这个圆是月饼的主体部分，其圆心和整个月饼的中心是重合的，圆心位置我们选在了坐标原点，代码如下："
   ]
  },
  {
   "cell_type": "code",
   "execution_count": 23,
   "metadata": {},
   "outputs": [],
   "source": [
    "circle = Circle((0,0), R, ec='orange', fc='white', linewidth=4) ##ec为线条颜色，fc为填充颜色,可以自由替换"
   ]
  },
  {
   "cell_type": "markdown",
   "metadata": {},
   "source": [
    "7、这里变量R就是这个大圆的半径，边线颜色（ec）设置为橙色，表面颜色设为白色。\n",
    "接下来我们再画上一些花纹，这些花纹主要由8个扇形组成，其中有4个大的扇形和4个小的扇形，我们先画一个，代码如下："
   ]
  },
  {
   "cell_type": "code",
   "execution_count": 24,
   "metadata": {},
   "outputs": [],
   "source": [
    "wedge1 = Wedge([-2, 2], R-5, 90, 180,\n",
    "               ec='orange', fc=r'white', linewidth=4) ##ec为线条颜色，fc为填充颜色,可以自由替换"
   ]
  },
  {
   "cell_type": "markdown",
   "metadata": {},
   "source": [
    "8、其中[-2, 2]是这个Wedge所代表的圆的圆心，R-5 是其半径，90 和180分别代表起始和终止角度，ec、fc和linewidth这些都和前面Arc类的用法相似，这8个扇形的效果图如图4所示。在图中笔者标出了wedge1、wedge2、wedge5和wedge6的位置，所有扇形按照逆时针方向放置。\n",
    "了解以后我们把剩下的部分给画完"
   ]
  },
  {
   "cell_type": "code",
   "execution_count": 25,
   "metadata": {},
   "outputs": [],
   "source": [
    "wedge2 = Wedge([-5, 5], R-12, 90, 180, ec='orange',\n",
    "               fc=r'white', linewidth=4)\n",
    "wedge3 = Wedge([-2, -2], R-5, 180, 270, ec='orange', \n",
    "               fc=r'white', linewidth=4)\n",
    "wedge4 = Wedge([-5, -5], R-12, 180, 270, ec='orange', \n",
    "               fc=r'white', linewidth=4)\n",
    "wedge5 = Wedge([2, -2], R-5, 270, 360, ec='orange', \n",
    "               fc=r'white', linewidth=4)\n",
    "wedge6 = Wedge([5, -5], R-12, 270, 360, ec='orange',\n",
    "               fc=r'white', linewidth=4)\n",
    "wedge7 = Wedge([2, 2], R-5, 0, 90, ec='orange', \n",
    "               fc=r'white', linewidth=4)\n",
    "wedge8 = Wedge([5, 5], R-12, 0, 90, ec='orange',\n",
    "               fc=r'white', linewidth=4)"
   ]
  },
  {
   "cell_type": "markdown",
   "metadata": {},
   "source": [
    "9、最后我们再把自己取好的名称加上，因为代码不多，所以把剩余所有代码都写在这里："
   ]
  },
  {
   "cell_type": "code",
   "execution_count": 26,
   "metadata": {},
   "outputs": [
    {
     "data": {
      "image/png": "[encoded data removed]",
      "text/plain": [
       "<Figure size 576x576 with 1 Axes>"
      ]
     },
     "metadata": {
      "needs_background": "light"
     },
     "output_type": "display_data"
    }
   ],
   "source": [
    "art_list = [arc1, arc2, arc3, arc4, arc5, arc6, arc7, arc8, arc9, arc10, arc11, arc12]\n",
    "art_list.extend([circle, wedge1, wedge2, wedge3, wedge4, wedge5, wedge6, wedge7, wedge8])\n",
    "fig, ax = plt.subplots(figsize=(8,8))\n",
    "ax.set_aspect('equal')\n",
    "for a in art_list:\n",
    "    ax.add_patch(a)\n",
    "    \n",
    "plt.axis('off')\n",
    "font_set = FontProperties(fname=r\"Alibaba-PuHuiTi-Medium.ttf\", size=12) ##可以自由下载字体使用\n",
    "plt.text(-15, -2.5, 'TianChi', bbox=dict(boxstyle='square', fc=\"w\", ec='orange', linewidth=4),  fontsize=50, color='orange') ##ec为线条颜色，color为字体颜色,可以自由替换\n",
    "plt.text(-28, -33, 'Python画月饼，千里共禅娟',fontproperties=font_set, fontsize=30, color='#aa4a30')\n",
    "plt.ylim([-35, 35])\n",
    "plt.xlim([-35, 35])\n",
    "\n",
    "plt.show()"
   ]
  },
  {
   "cell_type": "markdown",
   "metadata": {},
   "source": [
    "10、art_list是我们设置的一个list变量，里面放有arc1到arc12这12个图形，然后再把circle以及8个扇形都加进去。ax.set_aspect('equal')是设置整个图形x轴和y轴同比例，for a in art_list: ax.add_patch(a) 是把art_list中所有图形加入到画布当中。而plt.text这行代码中，-18和-2.5是这个text的左下角的坐标，fontfamily 和 fontsize 分别是文字的字体和大小，bbox 是设置text边框的格式，这些参数也都和前面讲过的很多参数差不多，这里不再赘述。plt.ylim 和plt.xlim是设置整个画布的坐标范围。最终效果如图1所示。\n",
    "\n",
    "当然我们也可以改变图片的颜色，比如设置成蓝色的，这个完全可以根据个人爱好而定。"
   ]
  },
  {
   "cell_type": "markdown",
   "metadata": {},
   "source": [
    "本案例代码来自：Crossin的编程教室</br>\n",
    "作者：tyran"
   ]
  },
  {
   "cell_type": "code",
   "execution_count": null,
   "metadata": {},
   "outputs": [],
   "source": []
  }
 ],
 "metadata": {
  "kernelspec": {
   "display_name": "Python 3",
   "language": "python",
   "name": "python3"
  },
  "language_info": {
   "codemirror_mode": {
    "name": "ipython",
    "version": 3
   },
   "file_extension": ".py",
   "mimetype": "text/x-python",
   "name": "python",
   "nbconvert_exporter": "python",
   "pygments_lexer": "ipython3",
   "version": "3.6.5"
  },
  "tianchi_metadata": {
   "competitions": [],
   "datasets": [],
   "description": "",
   "notebookId": "176769",
   "source": "dsw"
  }
 },
 "nbformat": 4,
 "nbformat_minor": 4
}
